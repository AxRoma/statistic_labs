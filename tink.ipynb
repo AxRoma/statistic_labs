{
 "cells": [
  {
   "cell_type": "code",
   "execution_count": 6,
   "metadata": {},
   "outputs": [
    {
     "name": "stdout",
     "output_type": "stream",
     "text": [
      "0\n"
     ]
    }
   ],
   "source": [
    "# задание 1\n",
    "n = input()\n",
    "flag = True\n",
    "\n",
    "for i in n: \n",
    "    if int(i) % 2 != 0:\n",
    "        flag = False\n",
    "print(int(flag))"
   ]
  },
  {
   "cell_type": "code",
   "execution_count": 15,
   "metadata": {},
   "outputs": [
    {
     "name": "stdout",
     "output_type": "stream",
     "text": [
      "30\n"
     ]
    }
   ],
   "source": [
    "# задание 2\n",
    "def find_month(n, m):\n",
    "    for i in [28, 29, 30, 31]:\n",
    "        if (m+14) % i == n:\n",
    "            return i\n",
    "        \n",
    "\n",
    "n, m = list(map(int, input().split()))\n",
    "if n > 7:\n",
    "    print(n - 7)\n",
    "else:\n",
    "    month = find_month(n, m)\n",
    "    res = n - 7 + month              \n",
    "    print(res)\n",
    "\n",
    "\n"
   ]
  },
  {
   "cell_type": "code",
   "execution_count": 14,
   "metadata": {},
   "outputs": [
    {
     "name": "stdout",
     "output_type": "stream",
     "text": [
      "2 1\n"
     ]
    }
   ],
   "source": [
    "# задание 3\n",
    "def gcd(num, den):\n",
    "    if num < den: \n",
    "        num, den = den, num\n",
    "    while den != 0:\n",
    "        num, den = den, num % den\n",
    "    return num\n",
    "\n",
    "a, b, c, d = list(map(int, input().split()))\n",
    "num = a * d + b * c     # числитель\n",
    "den = b * d             # знаменатель\n",
    "\n",
    "nod = gcd(num, den)\n",
    "\n",
    "print(num//nod, den//nod)\n",
    "\n"
   ]
  },
  {
   "cell_type": "code",
   "execution_count": null,
   "metadata": {},
   "outputs": [],
   "source": [
    "# задание 4\n",
    "n = int(input())\n",
    "s = input().strip()        \n",
    "\n",
    "prev = [-1] * (n + 1)      \n",
    "nxt  = [-1] * (n + 1)     \n",
    "\n",
    "head = tail = 0            \n",
    "for p in range(1, n + 1):  \n",
    "    c = s[p - 1]          \n",
    "    a = p - 1              \n",
    "\n",
    "    if c == 'L':          \n",
    "        l = prev[a]\n",
    "        prev[p], nxt[p] = l, a\n",
    "        prev[a] = p\n",
    "        if l != -1:\n",
    "            nxt[l] = p\n",
    "        else:\n",
    "            head = p\n",
    "    else:                  \n",
    "        r = nxt[a]\n",
    "        prev[p], nxt[p] = a, r\n",
    "        nxt[a] = p\n",
    "        if r != -1:\n",
    "            prev[r] = p\n",
    "        else:\n",
    "            tail = p\n",
    "\n",
    "cur, out = head, []\n",
    "while cur != -1:\n",
    "    out.append(str(cur))\n",
    "    cur = nxt[cur]\n",
    "\n",
    "print(' '.join(out))\n"
   ]
  },
  {
   "cell_type": "code",
   "execution_count": null,
   "metadata": {},
   "outputs": [],
   "source": [
    "# мальчик‑лестница: O(n · k) динамика\n",
    "# n ≤ 1000 (кол-во ступенек), k ≤ 100 (допустимых «абстракций»)\n",
    "\n",
    "INF   = -10**9          # заведомо меньше возможного настроения\n",
    "n, k  = map(int, input().split())\n",
    "a     = [0] + list(map(int, input().split()))    # a[1..n]\n",
    "\n",
    "# dp[pos][c] — макс. настроение, стоя на «pos» после c абстракций\n",
    "dp = [[INF]*(k+1) for _ in range(n+1)]\n",
    "dp[0][0] = 0            # старт перед первой ступенью\n",
    "\n",
    "for c in range(k+1):                    # сколько абстракций уже использовано\n",
    "    # 1) обычные шаг / прыжок (не берут дополнительную «абстракцию»)\n",
    "    for pos in range(n+1):\n",
    "        cur = dp[pos][c]\n",
    "        if cur == INF:            # недостижимо\n",
    "            continue\n",
    "        if pos+1 <= n:\n",
    "            dp[pos+1][c] = max(dp[pos+1][c], cur + a[pos+1])\n",
    "        if pos+2 <= n:\n",
    "            dp[pos+2][c] = max(dp[pos+2][c], cur + a[pos+2])\n",
    "\n",
    "    # 2) переход «абстракцией» — переносим максимум на все следующие позиции\n",
    "    if c == k:                   # больше абстракций тратить нельзя\n",
    "        continue\n",
    "    best = INF\n",
    "    for pos in range(1, n+1):\n",
    "        best = max(best, dp[pos-1][c])      # макс. на любых прежних ступенях\n",
    "        dp[pos][c+1] = max(dp[pos][c+1], best)   # прийти без изменения настроения\n",
    "\n",
    "# ответ — лучший результат на последней ступеньке при любых ≤ k абстракциях\n",
    "print(max(dp[n]))\n"
   ]
  },
  {
   "cell_type": "code",
   "execution_count": 21,
   "metadata": {},
   "outputs": [
    {
     "name": "stdout",
     "output_type": "stream",
     "text": [
      "4\n"
     ]
    }
   ],
   "source": [
    "NEG = -10**15                       # «минус бесконечность»\n",
    "\n",
    "def main() -> None:\n",
    "    # читаем n, k\n",
    "    n, k = map(int, input().split())\n",
    "    # массив настроений a[1..n]\n",
    "    a = [0] + list(map(int, input().split()))\n",
    "\n",
    "    # dp[i][j] — макс. настроение на ступеньке i, потратив j абстракций\n",
    "    dp   = [[NEG]*(k+1) for _ in range(n+1)]\n",
    "    best = [NEG]*(k+1)               # best[j] = max_{p<i} dp[p][j]\n",
    "\n",
    "    dp[0][0] = best[0] = 0           # старт перед первой ступенькой\n",
    "\n",
    "    for i in range(1, n+1):\n",
    "        ai = a[i]\n",
    "        for j in range(k+1):\n",
    "            # обычный шаг\n",
    "            if dp[i-1][j] != NEG and (val := dp[i-1][j] + ai) > dp[i][j]:\n",
    "                dp[i][j] = val\n",
    "            # прыжок через ступеньку\n",
    "            if i >= 2 and dp[i-2][j] != NEG and (val := dp[i-2][j] + ai) > dp[i][j]:\n",
    "                dp[i][j] = val\n",
    "            # абстрагирование\n",
    "            if j and best[j-1] != NEG and (val := best[j-1] + ai) > dp[i][j]:\n",
    "                dp[i][j] = val\n",
    "\n",
    "        # обновляем префиксные максимумы\n",
    "        for j in range(k+1):\n",
    "            if dp[i][j] > best[j]:\n",
    "                best[j] = dp[i][j]\n",
    "\n",
    "    print(max(dp[n]))\n",
    "\n",
    "if __name__ == \"__main__\":\n",
    "    main()\n"
   ]
  }
 ],
 "metadata": {
  "kernelspec": {
   "display_name": "myenv",
   "language": "python",
   "name": "python3"
  },
  "language_info": {
   "codemirror_mode": {
    "name": "ipython",
    "version": 3
   },
   "file_extension": ".py",
   "mimetype": "text/x-python",
   "name": "python",
   "nbconvert_exporter": "python",
   "pygments_lexer": "ipython3",
   "version": "3.11.4"
  }
 },
 "nbformat": 4,
 "nbformat_minor": 2
}
